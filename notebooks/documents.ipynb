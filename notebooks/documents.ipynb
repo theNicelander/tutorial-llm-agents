{
 "cells": [
  {
   "cell_type": "code",
   "execution_count": null,
   "id": "0",
   "metadata": {},
   "outputs": [],
   "source": [
    "from chonkie import NeuralChunker, SemanticChunker\n",
    "\n",
    "from src.examples.example_text import mixed_topics_chaos\n",
    "\n",
    "%reload_ext autoreload\n",
    "%autoreload 2"
   ]
  },
  {
   "cell_type": "code",
   "execution_count": null,
   "id": "1",
   "metadata": {},
   "outputs": [],
   "source": [
    "chunker: SemanticChunker = SemanticChunker(\n",
    "    embedding_model=\"all-MiniLM-L6-v2\", threshold=0.90, chunk_size=128\n",
    ")\n",
    "chunks = chunker.chunk(mixed_topics_chaos)\n",
    "\n",
    "for chunk in chunks:\n",
    "    print(chunk.text)\n",
    "    print(\"-\" * 100)"
   ]
  },
  {
   "cell_type": "code",
   "execution_count": null,
   "id": "2",
   "metadata": {},
   "outputs": [],
   "source": [
    "chunker: NeuralChunker = NeuralChunker(\n",
    "    model=\"mirth/chonky_modernbert_base_1\",\n",
    "    device_map=\"cpu\",\n",
    "    min_characters_per_chunk=10,\n",
    ")\n",
    "chunks = chunker.chunk(mixed_topics_chaos)\n",
    "for chunk in chunks:\n",
    "    print(chunk.text)\n",
    "    print(\"-\" * 100)"
   ]
  }
 ],
 "metadata": {
  "kernelspec": {
   "display_name": ".venv",
   "language": "python",
   "name": "python3"
  },
  "language_info": {
   "codemirror_mode": {
    "name": "ipython",
    "version": 3
   },
   "file_extension": ".py",
   "mimetype": "text/x-python",
   "name": "python",
   "nbconvert_exporter": "python",
   "pygments_lexer": "ipython3",
   "version": "3.12.10"
  }
 },
 "nbformat": 4,
 "nbformat_minor": 5
}
