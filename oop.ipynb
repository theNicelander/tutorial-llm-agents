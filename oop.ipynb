{
  "cells": [
    {
      "cell_type": "code",
      "execution_count": 5,
      "metadata": {},
      "outputs": [],
      "source": [
        "from typing import Literal\n",
        "\n",
        "import ollama\n",
        "from loguru import logger\n",
        "from pydantic import BaseModel, Field\n"
      ]
    },
    {
      "cell_type": "code",
      "execution_count": 6,
      "metadata": {},
      "outputs": [],
      "source": [
        "SYSTEM_PROMPT: str = \"You are a helpful assistant. Answer extremely concisely.\"\n"
      ]
    },
    {
      "cell_type": "code",
      "execution_count": 7,
      "metadata": {},
      "outputs": [],
      "source": [
        "class Message(BaseModel):\n",
        "    \"\"\"A single message in the conversation.\"\"\"\n",
        "\n",
        "    role: Literal[\"system\", \"user\", \"assistant\"]\n",
        "    content: str\n",
        "\n",
        "\n",
        "class Conversation(BaseModel):\n",
        "    \"\"\"Manages a conversation with message history.\"\"\"\n",
        "\n",
        "    history: list[Message] = Field(\n",
        "        default_factory=lambda: [Message(role=\"system\", content=SYSTEM_PROMPT)]\n",
        "    )\n",
        "    model: str = \"llama3.2\"\n",
        "\n",
        "    def ask(self, question: str) -> str:\n",
        "        \"\"\"Ask a question and get a response, maintaining conversation history.\"\"\"\n",
        "        self.history.append(Message(role=\"user\", content=question))\n",
        "\n",
        "        messages = [msg.model_dump() for msg in self.history]\n",
        "        response = ollama.chat(model=self.model, messages=messages)\n",
        "        answer = response[\"message\"][\"content\"]\n",
        "\n",
        "        self.history.append(Message(role=\"assistant\", content=answer))\n",
        "        return answer\n",
        "\n",
        "    def reset(self) -> None:\n",
        "        \"\"\"Reset the conversation history.\"\"\"\n",
        "        self.history = [Message(role=\"system\", content=SYSTEM_PROMPT)]"
      ]
    },
    {
      "cell_type": "code",
      "execution_count": 9,
      "metadata": {},
      "outputs": [
        {
          "name": "stderr",
          "output_type": "stream",
          "text": [
            "\u001b[32m2025-07-12 13:28:43.110\u001b[0m | \u001b[1mINFO    \u001b[0m | \u001b[36m__main__\u001b[0m:\u001b[36m<module>\u001b[0m:\u001b[36m2\u001b[0m - \u001b[1mCreating a new conversation\u001b[0m\n",
            "\u001b[32m2025-07-12 13:28:43.939\u001b[0m | \u001b[1mINFO    \u001b[0m | \u001b[36m__main__\u001b[0m:\u001b[36m<module>\u001b[0m:\u001b[36m8\u001b[0m - \u001b[1mQuestion: What is Iceland?\u001b[0m\n",
            "\u001b[32m2025-07-12 13:28:43.941\u001b[0m | \u001b[32m\u001b[1mSUCCESS \u001b[0m | \u001b[36m__main__\u001b[0m:\u001b[36m<module>\u001b[0m:\u001b[36m9\u001b[0m - \u001b[32m\u001b[1mAnswer: Iceland is an island nation in the North Atlantic, known for its stunning landscapes, geothermal hot springs, and unique culture.\u001b[0m\n",
            "\u001b[32m2025-07-12 13:28:44.203\u001b[0m | \u001b[1mINFO    \u001b[0m | \u001b[36m__main__\u001b[0m:\u001b[36m<module>\u001b[0m:\u001b[36m14\u001b[0m - \u001b[1mFollow-up: What is its population?\u001b[0m\n",
            "\u001b[32m2025-07-12 13:28:44.205\u001b[0m | \u001b[32m\u001b[1mSUCCESS \u001b[0m | \u001b[36m__main__\u001b[0m:\u001b[36m<module>\u001b[0m:\u001b[36m15\u001b[0m - \u001b[32m\u001b[1mAnswer: Approximately 368,000 people.\u001b[0m\n"
          ]
        }
      ],
      "source": [
        "# Create a new conversation\n",
        "logger.info(\"Creating a new conversation\")\n",
        "conversation = Conversation()\n",
        "\n",
        "# Ask initial question\n",
        "question = \"What is Iceland?\"\n",
        "answer = conversation.ask(question)\n",
        "logger.info(f\"Question: {question}\")\n",
        "logger.success(f\"Answer: {answer}\")\n",
        "\n",
        "# Ask a follow-up question\n",
        "followup = \"What is its population?\"\n",
        "answer = conversation.ask(followup)\n",
        "logger.info(f\"Follow-up: {followup}\")\n",
        "logger.success(f\"Answer: {answer}\")\n",
        "\n",
        "# To start fresh, reset the conversation:\n",
        "conversation.reset()\n",
        "# Or create a new instance:\n",
        "# conversation = Conversation()"
      ]
    }
  ],
  "metadata": {
    "kernelspec": {
      "display_name": ".venv",
      "language": "python",
      "name": "python3"
    },
    "language_info": {
      "codemirror_mode": {
        "name": "ipython",
        "version": 3
      },
      "file_extension": ".py",
      "mimetype": "text/x-python",
      "name": "python",
      "nbconvert_exporter": "python",
      "pygments_lexer": "ipython3",
      "version": "3.13.1"
    }
  },
  "nbformat": 4,
  "nbformat_minor": 2
}
